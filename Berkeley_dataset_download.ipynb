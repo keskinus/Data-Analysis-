{
  "nbformat": 4,
  "nbformat_minor": 0,
  "metadata": {
    "colab": {
      "name": " Berkeley dataset download.ipynb",
      "provenance": [],
      "include_colab_link": true
    },
    "kernelspec": {
      "name": "python3",
      "display_name": "Python 3"
    }
  },
  "cells": [
    {
      "cell_type": "markdown",
      "metadata": {
        "id": "view-in-github",
        "colab_type": "text"
      },
      "source": [
        "<a href=\"https://colab.research.google.com/github/keskinus/Data-Analysis-/blob/main/Berkeley_dataset_download.ipynb\" target=\"_parent\"><img src=\"https://colab.research.google.com/assets/colab-badge.svg\" alt=\"Open In Colab\"/></a>"
      ]
    },
    {
      "cell_type": "code",
      "metadata": {
        "id": "A9AheHD9EzVQ"
      },
      "source": [
        "import pandas as pd\n",
        "import numpy as np\n"
      ],
      "execution_count": null,
      "outputs": []
    },
    {
      "cell_type": "markdown",
      "metadata": {
        "id": "4QzXF8guEzVR"
      },
      "source": [
        "https://data.cityofberkeley.info/Public-Safety/Berkeley-PD-Calls-for-Service/k2nh-s5h5"
      ]
    },
    {
      "cell_type": "code",
      "metadata": {
        "id": "GjsVJM2DEzVR"
      },
      "source": [
        "url = 'https://data.cityofberkeley.info/api/views/k2nh-s5h5/rows.csv'\n",
        "\n",
        "df = pd.read_csv(url)"
      ],
      "execution_count": null,
      "outputs": []
    },
    {
      "cell_type": "code",
      "metadata": {
        "colab": {
          "base_uri": "https://localhost:8080/",
          "height": 462
        },
        "id": "jeykRonyEzVS",
        "outputId": "5caf03e2-442f-49fd-b33a-0196293cc272"
      },
      "source": [
        "df.head()"
      ],
      "execution_count": null,
      "outputs": [
        {
          "output_type": "execute_result",
          "data": {
            "text/html": [
              "<div>\n",
              "<style scoped>\n",
              "    .dataframe tbody tr th:only-of-type {\n",
              "        vertical-align: middle;\n",
              "    }\n",
              "\n",
              "    .dataframe tbody tr th {\n",
              "        vertical-align: top;\n",
              "    }\n",
              "\n",
              "    .dataframe thead th {\n",
              "        text-align: right;\n",
              "    }\n",
              "</style>\n",
              "<table border=\"1\" class=\"dataframe\">\n",
              "  <thead>\n",
              "    <tr style=\"text-align: right;\">\n",
              "      <th></th>\n",
              "      <th>CASENO</th>\n",
              "      <th>OFFENSE</th>\n",
              "      <th>EVENTDT</th>\n",
              "      <th>EVENTTM</th>\n",
              "      <th>CVLEGEND</th>\n",
              "      <th>CVDOW</th>\n",
              "      <th>InDbDate</th>\n",
              "      <th>Block_Location</th>\n",
              "      <th>BLKADDR</th>\n",
              "      <th>City</th>\n",
              "      <th>State</th>\n",
              "    </tr>\n",
              "  </thead>\n",
              "  <tbody>\n",
              "    <tr>\n",
              "      <th>0</th>\n",
              "      <td>20047075</td>\n",
              "      <td>VEHICLE STOLEN</td>\n",
              "      <td>10/11/2020 12:00:00 AM</td>\n",
              "      <td>13:11</td>\n",
              "      <td>MOTOR VEHICLE THEFT</td>\n",
              "      <td>0</td>\n",
              "      <td>02/25/2021 12:00:00 AM</td>\n",
              "      <td>Berkeley, CA\\n(37.869058, -122.270455)</td>\n",
              "      <td>NaN</td>\n",
              "      <td>Berkeley</td>\n",
              "      <td>CA</td>\n",
              "    </tr>\n",
              "    <tr>\n",
              "      <th>1</th>\n",
              "      <td>20049646</td>\n",
              "      <td>IDENTITY THEFT</td>\n",
              "      <td>09/29/2020 12:00:00 AM</td>\n",
              "      <td>8:00</td>\n",
              "      <td>FRAUD</td>\n",
              "      <td>2</td>\n",
              "      <td>02/25/2021 12:00:00 AM</td>\n",
              "      <td>200 BLOCK PANORAMIC WAY\\nBerkeley, CA\\n(37.869...</td>\n",
              "      <td>200 BLOCK PANORAMIC WAY</td>\n",
              "      <td>Berkeley</td>\n",
              "      <td>CA</td>\n",
              "    </tr>\n",
              "    <tr>\n",
              "      <th>2</th>\n",
              "      <td>21090137</td>\n",
              "      <td>THEFT FELONY (OVER $950)</td>\n",
              "      <td>01/28/2021 12:00:00 AM</td>\n",
              "      <td>11:00</td>\n",
              "      <td>LARCENY</td>\n",
              "      <td>4</td>\n",
              "      <td>02/25/2021 12:00:00 AM</td>\n",
              "      <td>2900 BLOCK ELLIS ST\\nBerkeley, CA\\n(37.85583, ...</td>\n",
              "      <td>2900 BLOCK ELLIS ST</td>\n",
              "      <td>Berkeley</td>\n",
              "      <td>CA</td>\n",
              "    </tr>\n",
              "    <tr>\n",
              "      <th>3</th>\n",
              "      <td>20045958</td>\n",
              "      <td>THEFT FELONY (OVER $950)</td>\n",
              "      <td>10/04/2020 12:00:00 AM</td>\n",
              "      <td>17:59</td>\n",
              "      <td>LARCENY</td>\n",
              "      <td>0</td>\n",
              "      <td>02/25/2021 12:00:00 AM</td>\n",
              "      <td>2300 BLOCK TELEGRAPH AVE\\nBerkeley, CA\\n(37.86...</td>\n",
              "      <td>2300 BLOCK TELEGRAPH AVE</td>\n",
              "      <td>Berkeley</td>\n",
              "      <td>CA</td>\n",
              "    </tr>\n",
              "    <tr>\n",
              "      <th>4</th>\n",
              "      <td>20050711</td>\n",
              "      <td>ASSAULT/BATTERY MISD.</td>\n",
              "      <td>11/02/2020 12:00:00 AM</td>\n",
              "      <td>18:45</td>\n",
              "      <td>ASSAULT</td>\n",
              "      <td>1</td>\n",
              "      <td>02/25/2021 12:00:00 AM</td>\n",
              "      <td>2300 BLOCK SHATTUCK AVE\\nBerkeley, CA\\n(37.867...</td>\n",
              "      <td>2300 BLOCK SHATTUCK AVE</td>\n",
              "      <td>Berkeley</td>\n",
              "      <td>CA</td>\n",
              "    </tr>\n",
              "  </tbody>\n",
              "</table>\n",
              "</div>"
            ],
            "text/plain": [
              "     CASENO                   OFFENSE  ...      City State\n",
              "0  20047075            VEHICLE STOLEN  ...  Berkeley    CA\n",
              "1  20049646            IDENTITY THEFT  ...  Berkeley    CA\n",
              "2  21090137  THEFT FELONY (OVER $950)  ...  Berkeley    CA\n",
              "3  20045958  THEFT FELONY (OVER $950)  ...  Berkeley    CA\n",
              "4  20050711     ASSAULT/BATTERY MISD.  ...  Berkeley    CA\n",
              "\n",
              "[5 rows x 11 columns]"
            ]
          },
          "metadata": {
            "tags": []
          },
          "execution_count": 3
        }
      ]
    },
    {
      "cell_type": "code",
      "metadata": {
        "colab": {
          "base_uri": "https://localhost:8080/"
        },
        "id": "AO0NTrG_EzVT",
        "outputId": "84f51a2f-5627-47e8-895f-8c290c821c91"
      },
      "source": [
        "len(df)"
      ],
      "execution_count": null,
      "outputs": [
        {
          "output_type": "execute_result",
          "data": {
            "text/plain": [
              "3911"
            ]
          },
          "metadata": {
            "tags": []
          },
          "execution_count": 11
        }
      ]
    },
    {
      "cell_type": "markdown",
      "metadata": {
        "id": "R1c8ajwJ5yQr"
      },
      "source": [
        "https://data.cityofberkeley.info/Public-Safety/Berkeley-PD-Calls-for-Service/k2nh-s5h5"
      ]
    },
    {
      "cell_type": "code",
      "metadata": {
        "id": "TTSH2omAkUgm"
      },
      "source": [
        "url = 'https://data.cityofberkeley.info/api/views/k2nh-s5h5/rows.csv'\n",
        "\n",
        "df = pd.read_csv(url)"
      ],
      "execution_count": null,
      "outputs": []
    },
    {
      "cell_type": "code",
      "metadata": {
        "colab": {
          "base_uri": "https://localhost:8080/",
          "height": 462
        },
        "id": "YAkMMwcHkgxR",
        "outputId": "50cfe892-d5f9-494e-d99a-e0f9427bf47d"
      },
      "source": [
        "df.head()"
      ],
      "execution_count": null,
      "outputs": [
        {
          "output_type": "execute_result",
          "data": {
            "text/html": [
              "<div>\n",
              "<style scoped>\n",
              "    .dataframe tbody tr th:only-of-type {\n",
              "        vertical-align: middle;\n",
              "    }\n",
              "\n",
              "    .dataframe tbody tr th {\n",
              "        vertical-align: top;\n",
              "    }\n",
              "\n",
              "    .dataframe thead th {\n",
              "        text-align: right;\n",
              "    }\n",
              "</style>\n",
              "<table border=\"1\" class=\"dataframe\">\n",
              "  <thead>\n",
              "    <tr style=\"text-align: right;\">\n",
              "      <th></th>\n",
              "      <th>CASENO</th>\n",
              "      <th>OFFENSE</th>\n",
              "      <th>EVENTDT</th>\n",
              "      <th>EVENTTM</th>\n",
              "      <th>CVLEGEND</th>\n",
              "      <th>CVDOW</th>\n",
              "      <th>InDbDate</th>\n",
              "      <th>Block_Location</th>\n",
              "      <th>BLKADDR</th>\n",
              "      <th>City</th>\n",
              "      <th>State</th>\n",
              "    </tr>\n",
              "  </thead>\n",
              "  <tbody>\n",
              "    <tr>\n",
              "      <th>0</th>\n",
              "      <td>20047075</td>\n",
              "      <td>VEHICLE STOLEN</td>\n",
              "      <td>10/11/2020 12:00:00 AM</td>\n",
              "      <td>13:11</td>\n",
              "      <td>MOTOR VEHICLE THEFT</td>\n",
              "      <td>0</td>\n",
              "      <td>02/25/2021 12:00:00 AM</td>\n",
              "      <td>Berkeley, CA\\n(37.869058, -122.270455)</td>\n",
              "      <td>NaN</td>\n",
              "      <td>Berkeley</td>\n",
              "      <td>CA</td>\n",
              "    </tr>\n",
              "    <tr>\n",
              "      <th>1</th>\n",
              "      <td>20049646</td>\n",
              "      <td>IDENTITY THEFT</td>\n",
              "      <td>09/29/2020 12:00:00 AM</td>\n",
              "      <td>8:00</td>\n",
              "      <td>FRAUD</td>\n",
              "      <td>2</td>\n",
              "      <td>02/25/2021 12:00:00 AM</td>\n",
              "      <td>200 BLOCK PANORAMIC WAY\\nBerkeley, CA\\n(37.869...</td>\n",
              "      <td>200 BLOCK PANORAMIC WAY</td>\n",
              "      <td>Berkeley</td>\n",
              "      <td>CA</td>\n",
              "    </tr>\n",
              "    <tr>\n",
              "      <th>2</th>\n",
              "      <td>21090137</td>\n",
              "      <td>THEFT FELONY (OVER $950)</td>\n",
              "      <td>01/28/2021 12:00:00 AM</td>\n",
              "      <td>11:00</td>\n",
              "      <td>LARCENY</td>\n",
              "      <td>4</td>\n",
              "      <td>02/25/2021 12:00:00 AM</td>\n",
              "      <td>2900 BLOCK ELLIS ST\\nBerkeley, CA\\n(37.85583, ...</td>\n",
              "      <td>2900 BLOCK ELLIS ST</td>\n",
              "      <td>Berkeley</td>\n",
              "      <td>CA</td>\n",
              "    </tr>\n",
              "    <tr>\n",
              "      <th>3</th>\n",
              "      <td>20045958</td>\n",
              "      <td>THEFT FELONY (OVER $950)</td>\n",
              "      <td>10/04/2020 12:00:00 AM</td>\n",
              "      <td>17:59</td>\n",
              "      <td>LARCENY</td>\n",
              "      <td>0</td>\n",
              "      <td>02/25/2021 12:00:00 AM</td>\n",
              "      <td>2300 BLOCK TELEGRAPH AVE\\nBerkeley, CA\\n(37.86...</td>\n",
              "      <td>2300 BLOCK TELEGRAPH AVE</td>\n",
              "      <td>Berkeley</td>\n",
              "      <td>CA</td>\n",
              "    </tr>\n",
              "    <tr>\n",
              "      <th>4</th>\n",
              "      <td>20050711</td>\n",
              "      <td>ASSAULT/BATTERY MISD.</td>\n",
              "      <td>11/02/2020 12:00:00 AM</td>\n",
              "      <td>18:45</td>\n",
              "      <td>ASSAULT</td>\n",
              "      <td>1</td>\n",
              "      <td>02/25/2021 12:00:00 AM</td>\n",
              "      <td>2300 BLOCK SHATTUCK AVE\\nBerkeley, CA\\n(37.867...</td>\n",
              "      <td>2300 BLOCK SHATTUCK AVE</td>\n",
              "      <td>Berkeley</td>\n",
              "      <td>CA</td>\n",
              "    </tr>\n",
              "  </tbody>\n",
              "</table>\n",
              "</div>"
            ],
            "text/plain": [
              "     CASENO                   OFFENSE  ...      City State\n",
              "0  20047075            VEHICLE STOLEN  ...  Berkeley    CA\n",
              "1  20049646            IDENTITY THEFT  ...  Berkeley    CA\n",
              "2  21090137  THEFT FELONY (OVER $950)  ...  Berkeley    CA\n",
              "3  20045958  THEFT FELONY (OVER $950)  ...  Berkeley    CA\n",
              "4  20050711     ASSAULT/BATTERY MISD.  ...  Berkeley    CA\n",
              "\n",
              "[5 rows x 11 columns]"
            ]
          },
          "metadata": {
            "tags": []
          },
          "execution_count": 5
        }
      ]
    },
    {
      "cell_type": "code",
      "metadata": {
        "colab": {
          "base_uri": "https://localhost:8080/"
        },
        "id": "SiGUusqZlKt5",
        "outputId": "b54d522c-73b9-4d05-bbb7-1babdfdf33dd"
      },
      "source": [
        "len(df)"
      ],
      "execution_count": null,
      "outputs": [
        {
          "output_type": "execute_result",
          "data": {
            "text/plain": [
              "2541"
            ]
          },
          "metadata": {
            "tags": []
          },
          "execution_count": 6
        }
      ]
    },
    {
      "cell_type": "markdown",
      "metadata": {
        "id": "Q1xx9Wxq6FUE"
      },
      "source": [
        "## Columns\n",
        "\n",
        "\n",
        "https://data.cityofberkeley.info/api/views/k2nh-s5h5/files/tgCx9-LwzyULzas6ZSxGdPmc1f-0euS2Y6EVOrNH940?download=true&filename=01_Page_Narrative_Crime.pdf"
      ]
    }
  ]
}