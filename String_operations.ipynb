{
  "nbformat": 4,
  "nbformat_minor": 0,
  "metadata": {
    "colab": {
      "name": " String operations.ipynb",
      "provenance": [],
      "include_colab_link": true
    },
    "kernelspec": {
      "name": "python3",
      "display_name": "Python 3"
    }
  },
  "cells": [
    {
      "cell_type": "markdown",
      "metadata": {
        "id": "view-in-github",
        "colab_type": "text"
      },
      "source": [
        "<a href=\"https://colab.research.google.com/github/keskinus/Data-Analysis-/blob/main/String_operations.ipynb\" target=\"_parent\"><img src=\"https://colab.research.google.com/assets/colab-badge.svg\" alt=\"Open In Colab\"/></a>"
      ]
    },
    {
      "cell_type": "markdown",
      "metadata": {
        "id": "HaiD_ep4uwJ9"
      },
      "source": [
        "In this colab we will look at string manipulation methods, using python methods and regular expressions."
      ]
    },
    {
      "cell_type": "markdown",
      "metadata": {
        "id": "YSveHiiTEzT-"
      },
      "source": [
        "## String split"
      ]
    },
    {
      "cell_type": "code",
      "metadata": {
        "id": "ZKZEMn8CQ6O8"
      },
      "source": [
        "import pandas as pd"
      ],
      "execution_count": null,
      "outputs": []
    },
    {
      "cell_type": "markdown",
      "metadata": {
        "id": "6VfT4OwWU8rg"
      },
      "source": [
        "### Split in python"
      ]
    },
    {
      "cell_type": "code",
      "metadata": {
        "id": "YkMtiOlsE0ze"
      },
      "source": [
        "s = \"This is a very long sentence that we will break up. This one has a    lot   of  spaces  .    \""
      ],
      "execution_count": null,
      "outputs": []
    },
    {
      "cell_type": "code",
      "metadata": {
        "colab": {
          "base_uri": "https://localhost:8080/"
        },
        "id": "JF4-uuHlFB8I",
        "outputId": "f064c365-94fd-42db-b7ae-d655440ac569"
      },
      "source": [
        "# split() will split with the `space` character.\n",
        "s.split()"
      ],
      "execution_count": null,
      "outputs": [
        {
          "output_type": "execute_result",
          "data": {
            "text/plain": [
              "['This',\n",
              " 'is',\n",
              " 'a',\n",
              " 'very',\n",
              " 'long',\n",
              " 'sentence',\n",
              " 'that',\n",
              " 'we',\n",
              " 'will',\n",
              " 'break',\n",
              " 'up.',\n",
              " 'This',\n",
              " 'one',\n",
              " 'has',\n",
              " 'a',\n",
              " 'lot',\n",
              " 'of',\n",
              " 'spaces',\n",
              " '.']"
            ]
          },
          "metadata": {
            "tags": []
          },
          "execution_count": 53
        }
      ]
    },
    {
      "cell_type": "code",
      "metadata": {
        "colab": {
          "base_uri": "https://localhost:8080/"
        },
        "id": "ebcIKiM7FC7I",
        "outputId": "78a51a76-d13e-49e9-89c5-e25b2f2a3a29"
      },
      "source": [
        "# You can split with any character.\n",
        "s.split(\".\")"
      ],
      "execution_count": null,
      "outputs": [
        {
          "output_type": "execute_result",
          "data": {
            "text/plain": [
              "['This is a very long sentence that we will break up',\n",
              " ' This one has a    lot   of  spaces  ',\n",
              " '    ']"
            ]
          },
          "metadata": {
            "tags": []
          },
          "execution_count": 54
        }
      ]
    },
    {
      "cell_type": "code",
      "metadata": {
        "colab": {
          "base_uri": "https://localhost:8080/"
        },
        "id": "Pd3ZgkC8FG7L",
        "outputId": "e1d6fc19-a954-4d4f-f6c5-299781085887"
      },
      "source": [
        "# notice that the character used to split is not in the result.\n",
        "s.split(\"a\")"
      ],
      "execution_count": null,
      "outputs": [
        {
          "output_type": "execute_result",
          "data": {
            "text/plain": [
              "['This is ',\n",
              " ' very long sentence th',\n",
              " 't we will bre',\n",
              " 'k up. This one h',\n",
              " 's ',\n",
              " '    lot   of  sp',\n",
              " 'ces  .    ']"
            ]
          },
          "metadata": {
            "tags": []
          },
          "execution_count": 55
        }
      ]
    },
    {
      "cell_type": "code",
      "metadata": {
        "id": "_fQ7F6OoFyTZ"
      },
      "source": [
        ""
      ],
      "execution_count": null,
      "outputs": []
    },
    {
      "cell_type": "markdown",
      "metadata": {
        "id": "41HQS7E7Fk4z"
      },
      "source": [
        "### String split in Pandas"
      ]
    },
    {
      "cell_type": "code",
      "metadata": {
        "id": "epbAAB2RFVLO"
      },
      "source": [
        "s = pd.Series([\"Three word sentence\",\n",
        "               \"Another such sentence\",\n",
        "               \"Third sentence too\"])"
      ],
      "execution_count": null,
      "outputs": []
    },
    {
      "cell_type": "code",
      "metadata": {
        "id": "PDQQ0OBUQ4C1"
      },
      "source": [
        ""
      ],
      "execution_count": null,
      "outputs": []
    },
    {
      "cell_type": "code",
      "metadata": {
        "colab": {
          "base_uri": "https://localhost:8080/"
        },
        "id": "5elCufk9GNgq",
        "outputId": "d4402a08-ea27-4655-e3e8-7d87ff63ba3c"
      },
      "source": [
        "s.str.split()"
      ],
      "execution_count": null,
      "outputs": [
        {
          "output_type": "execute_result",
          "data": {
            "text/plain": [
              "0      [Three, word, sentence]\n",
              "1    [Another, such, sentence]\n",
              "2       [Third, sentence, too]\n",
              "dtype: object"
            ]
          },
          "metadata": {
            "tags": []
          },
          "execution_count": 57
        }
      ]
    },
    {
      "cell_type": "code",
      "metadata": {
        "colab": {
          "base_uri": "https://localhost:8080/"
        },
        "id": "qKpkuJogGQ1m",
        "outputId": "809d333a-7e7a-45ab-f07b-e81ed763fd4d"
      },
      "source": [
        "split_s = s.str.split()\n",
        "print(type(split_s))\n"
      ],
      "execution_count": null,
      "outputs": [
        {
          "output_type": "stream",
          "text": [
            "<class 'pandas.core.series.Series'>\n"
          ],
          "name": "stdout"
        }
      ]
    },
    {
      "cell_type": "markdown",
      "metadata": {
        "id": "rtJ602Z4GdEx"
      },
      "source": [
        "How to retrieve only the last element of the lists?\n",
        "\n",
        "`split_s[1]` returns the 1th element of the series.  It does not \"broadcast\" the `[1]` for the elements of the list. "
      ]
    },
    {
      "cell_type": "code",
      "metadata": {
        "colab": {
          "base_uri": "https://localhost:8080/"
        },
        "id": "Zm7iARD6GcJC",
        "outputId": "e4ec8543-ca56-43a4-c117-f2468bf1ac7f"
      },
      "source": [
        "split_s[1]"
      ],
      "execution_count": null,
      "outputs": [
        {
          "output_type": "execute_result",
          "data": {
            "text/plain": [
              "['Another', 'such', 'sentence']"
            ]
          },
          "metadata": {
            "tags": []
          },
          "execution_count": 59
        }
      ]
    },
    {
      "cell_type": "code",
      "metadata": {
        "colab": {
          "base_uri": "https://localhost:8080/"
        },
        "id": "OVR4s38UGoi1",
        "outputId": "915875d0-1e6b-4a3a-9010-c1e7cded412a"
      },
      "source": [
        "print(type(split_s[1]))"
      ],
      "execution_count": null,
      "outputs": [
        {
          "output_type": "stream",
          "text": [
            "<class 'list'>\n"
          ],
          "name": "stdout"
        }
      ]
    },
    {
      "cell_type": "code",
      "metadata": {
        "colab": {
          "base_uri": "https://localhost:8080/"
        },
        "id": "_2e156atVz8P",
        "outputId": "3748ccad-be17-4115-cfe5-eff7f0ed14d1"
      },
      "source": [
        "split_s"
      ],
      "execution_count": null,
      "outputs": [
        {
          "output_type": "execute_result",
          "data": {
            "text/plain": [
              "0      [Three, word, sentence]\n",
              "1    [Another, such, sentence]\n",
              "2       [Third, sentence, too]\n",
              "dtype: object"
            ]
          },
          "metadata": {
            "tags": []
          },
          "execution_count": 61
        }
      ]
    },
    {
      "cell_type": "code",
      "metadata": {
        "colab": {
          "base_uri": "https://localhost:8080/"
        },
        "id": "ZSoqr9p4GvRw",
        "outputId": "07aab43a-dae5-4e94-a7b8-927722052383"
      },
      "source": [
        "split_s.str[-2]"
      ],
      "execution_count": null,
      "outputs": [
        {
          "output_type": "execute_result",
          "data": {
            "text/plain": [
              "0        word\n",
              "1        such\n",
              "2    sentence\n",
              "dtype: object"
            ]
          },
          "metadata": {
            "tags": []
          },
          "execution_count": 62
        }
      ]
    },
    {
      "cell_type": "code",
      "metadata": {
        "colab": {
          "base_uri": "https://localhost:8080/"
        },
        "id": "yH1FwztjmKPe",
        "outputId": "08c1d38f-e7ed-4d94-88f2-9fb37f9ec8db"
      },
      "source": [
        "split_s.str.get(-1)"
      ],
      "execution_count": null,
      "outputs": [
        {
          "output_type": "execute_result",
          "data": {
            "text/plain": [
              "0    sentence\n",
              "1    sentence\n",
              "2         too\n",
              "dtype: object"
            ]
          },
          "metadata": {
            "tags": []
          },
          "execution_count": 63
        }
      ]
    },
    {
      "cell_type": "code",
      "metadata": {
        "colab": {
          "base_uri": "https://localhost:8080/"
        },
        "id": "_b18TBJ_Gzi6",
        "outputId": "2b5a1b95-0a7b-4e57-9c3e-07b144d5c894"
      },
      "source": [
        "split_s.str[-1]"
      ],
      "execution_count": null,
      "outputs": [
        {
          "output_type": "execute_result",
          "data": {
            "text/plain": [
              "0    sentence\n",
              "1    sentence\n",
              "2         too\n",
              "dtype: object"
            ]
          },
          "metadata": {
            "tags": []
          },
          "execution_count": 64
        }
      ]
    },
    {
      "cell_type": "markdown",
      "metadata": {
        "id": "lO8StNteFytC"
      },
      "source": [
        "**Exercise**\n",
        "\n",
        "Split a series of date values in DD/MM/YYYY format into year, month and date.  Retrieve only the year."
      ]
    },
    {
      "cell_type": "code",
      "metadata": {
        "id": "Cd7G2IRIG74e"
      },
      "source": [
        "s1 = pd.Series(['01/01/2001', '03/12/2020', '10/10/2012', '11/9/2017'])"
      ],
      "execution_count": null,
      "outputs": []
    },
    {
      "cell_type": "code",
      "metadata": {
        "colab": {
          "base_uri": "https://localhost:8080/"
        },
        "id": "WVVvT2saWbhQ",
        "outputId": "adf53e72-70b1-4d14-e45c-33bcba4ad3c0"
      },
      "source": [
        "date = s1.str.split('/')\n",
        "date.str.get(-1)\n",
        "\n",
        "\n"
      ],
      "execution_count": null,
      "outputs": [
        {
          "output_type": "execute_result",
          "data": {
            "text/plain": [
              "0    2001\n",
              "1    2020\n",
              "2    2012\n",
              "3    2017\n",
              "dtype: object"
            ]
          },
          "metadata": {
            "tags": []
          },
          "execution_count": 66
        }
      ]
    },
    {
      "cell_type": "markdown",
      "metadata": {
        "id": "CV7As1Z6vck2"
      },
      "source": [
        "**Exercise**\n",
        "\n",
        "In the `EVENTDT` column in the Berkeley crime dataset, what are the time values?  Can we remove them and get only the date component?"
      ]
    },
    {
      "cell_type": "markdown",
      "metadata": {
        "id": "8lmEY9zmG9Cp"
      },
      "source": [
        "\n",
        "## Join strings\n"
      ]
    },
    {
      "cell_type": "code",
      "metadata": {
        "colab": {
          "base_uri": "https://localhost:8080/",
          "height": 35
        },
        "id": "bbpxGJHfwhuP",
        "outputId": "03656006-e16b-4702-c10a-88bf87b4247a"
      },
      "source": [
        "\".\".join(['a', 'b', 'c'])"
      ],
      "execution_count": null,
      "outputs": [
        {
          "output_type": "execute_result",
          "data": {
            "application/vnd.google.colaboratory.intrinsic+json": {
              "type": "string"
            },
            "text/plain": [
              "'a.b.c'"
            ]
          },
          "metadata": {
            "tags": []
          },
          "execution_count": 67
        }
      ]
    },
    {
      "cell_type": "code",
      "metadata": {
        "colab": {
          "base_uri": "https://localhost:8080/",
          "height": 35
        },
        "id": "AFdc9a4WwnR7",
        "outputId": "02b9f487-6606-41a3-927f-86a187eafabc"
      },
      "source": [
        "\"  \".join(['a', 'b', 'c'])"
      ],
      "execution_count": null,
      "outputs": [
        {
          "output_type": "execute_result",
          "data": {
            "application/vnd.google.colaboratory.intrinsic+json": {
              "type": "string"
            },
            "text/plain": [
              "'a  b  c'"
            ]
          },
          "metadata": {
            "tags": []
          },
          "execution_count": 68
        }
      ]
    },
    {
      "cell_type": "code",
      "metadata": {
        "id": "4ExxTRNJz2xp"
      },
      "source": [
        ""
      ],
      "execution_count": null,
      "outputs": []
    },
    {
      "cell_type": "markdown",
      "metadata": {
        "id": "Q4jpvT1wvtVr"
      },
      "source": [
        "# Regular expressions"
      ]
    },
    {
      "cell_type": "markdown",
      "metadata": {
        "id": "2CjhpT-qxqg4"
      },
      "source": [
        "Let us look at one entry for block address in the Berkeley dataset. \n",
        "```\n",
        "2100 SHATTUCK AVE\n",
        "Berkeley, CA\n",
        "(37.871167, -122.268285)\n",
        "```\n",
        "\n",
        "- We want to extract out Lattitude and Longitude.  \n",
        "- We want to discard \"Berkeley, CA\".\n",
        "\n",
        "Simple use of `s.split()` is not good enough. \n",
        "- It includes the leading opening parenthesis and a comma in the lattitude,\n",
        "- similarly the ending closing parenthesis in the longitude\n",
        "- we do not know how many words to cut before Berkeley CA."
      ]
    },
    {
      "cell_type": "code",
      "metadata": {
        "id": "a7fdAG_ywwjJ",
        "colab": {
          "base_uri": "https://localhost:8080/"
        },
        "outputId": "e83db78e-d657-4b95-99bc-f9ffd5cff8e8"
      },
      "source": [
        "s = '2100 SHATTUCK AVE\\nBerkeley, CA\\n(37.871167, -122.268285)'\n",
        "print(s)"
      ],
      "execution_count": null,
      "outputs": [
        {
          "output_type": "stream",
          "text": [
            "2100 SHATTUCK AVE\n",
            "Berkeley, CA\n",
            "(37.871167, -122.268285)\n"
          ],
          "name": "stdout"
        }
      ]
    },
    {
      "cell_type": "code",
      "metadata": {
        "colab": {
          "base_uri": "https://localhost:8080/"
        },
        "id": "QVfcHi11xlki",
        "outputId": "8cf488c4-ef8f-4551-9b03-99ac70c37a76"
      },
      "source": [
        "s.split()"
      ],
      "execution_count": null,
      "outputs": [
        {
          "output_type": "execute_result",
          "data": {
            "text/plain": [
              "['2100', 'SHATTUCK', 'AVE', 'Berkeley,', 'CA', '(37.871167,', '-122.268285)']"
            ]
          },
          "metadata": {
            "tags": []
          },
          "execution_count": 70
        }
      ]
    },
    {
      "cell_type": "markdown",
      "metadata": {
        "id": "ydOE8WsgCI1P"
      },
      "source": [
        "### Why Regular Expressions?\n",
        "\n",
        "Suppose we have a bunch of files\n",
        "```\n",
        "['Intro to Data Science.ipynb', \\\n",
        "'Data Science syllabus.pdf', \\\n",
        "'data science example 3.ipynb', \\\n",
        "'Data science class 4.ipynb', \\\n",
        "'statistics.ipynb', \\\n",
        "'stats.pdf']\n",
        "```\n",
        "\n",
        "We want to get only \"data science\" python notebooks.  If data was \"clean\", then all occurrences would have the same representation. Searching for it would be a simple string match. However, now there are many possibilities of how it is represented.  Uppercase or lower case D, upper or lower case S, with or without a space in between.  The number of possibilities will explode.  Regular expression will help in writing this concisely."
      ]
    },
    {
      "cell_type": "markdown",
      "metadata": {
        "id": "c_aApxQFEMWJ"
      },
      "source": [
        "Pictorial representation:\n",
        "https://www.python-course.eu/re.php\n",
        "\n",
        "Basic patterns:\n",
        "- Exact match `abc`\n",
        "- Choice representation `[Aa]bc`\n",
        "- Match any character `a.c`\n",
        "- Match any character at least once `a.+c`\n",
        "- Match any character zero or more `a.*c`\n",
        "- Any combination of the above `[aA].*c+`"
      ]
    },
    {
      "cell_type": "code",
      "metadata": {
        "id": "1WLh19xycZ6S"
      },
      "source": [
        ""
      ],
      "execution_count": null,
      "outputs": []
    },
    {
      "cell_type": "code",
      "metadata": {
        "id": "V1rt7f90xgQH"
      },
      "source": [
        "import re"
      ],
      "execution_count": null,
      "outputs": []
    },
    {
      "cell_type": "markdown",
      "metadata": {
        "id": "rv-oauB0PYKA"
      },
      "source": [
        "# re.findall( pattern, string )\n",
        "\n",
        "If there are capture groups in the pattern, then it will return a list of all the captured data, but otherwise, it will just return a list of the matches themselves, or an empty list if no matches are found.\n",
        "1\n",
        "\n"
      ]
    },
    {
      "cell_type": "code",
      "metadata": {
        "colab": {
          "base_uri": "https://localhost:8080/"
        },
        "id": "HgsK1V0m849t",
        "outputId": "400c03f0-d86f-4a50-d4db-334ee1a3c07e"
      },
      "source": [
        "txt = \"I have a pet in petaluma\"\n",
        "x = re.findall(\"pet\", txt)\n",
        "print(x)"
      ],
      "execution_count": null,
      "outputs": [
        {
          "output_type": "stream",
          "text": [
            "['pet', 'pet']\n"
          ],
          "name": "stdout"
        }
      ]
    },
    {
      "cell_type": "markdown",
      "metadata": {
        "id": "H0uVC9oae3V9"
      },
      "source": [
        "## More symbols:\n",
        "\n",
        "- `[]` Choice:  Example: Match vowels `[aeiou]`.\n",
        "- `-` Range: example `[a-z]` matches one of the lower case characters.\n",
        "- `^`  Beginning of the string.\n",
        "- `$`  End of the string.\n",
        "- `{m}` Exactly `m` matches\n",
        "- `{m,n}` Matches between `m` and `n` repeats.\n",
        "- `?` Zero or one occurences.\n",
        "- `*` Zero of more occurences.\n",
        "- `+` Zero or one occurence.\n",
        "\n",
        "Since some of the characters `*, -, ., +` have special meaning, if we have to match them, we escape the character with a `\\`."
      ]
    },
    {
      "cell_type": "markdown",
      "metadata": {
        "id": "MNm-X1M8di_a"
      },
      "source": [
        "## Special groups\n",
        "\n",
        "- `\\d`: digit. matches `[0-9]`\n",
        "- `\\w`: word character. matches `[a-zA-Z0-9_]`\n",
        "- `\\W`: non-word character. opposite of `\\w`. matches `[^a-zA-Z0-9_]`\n",
        "- `\\s`: whitespace. matches `[ \\t\\n\\r\\f\\v]`\n"
      ]
    },
    {
      "cell_type": "code",
      "metadata": {
        "id": "E1Phppbejf3w"
      },
      "source": [
        "zip_code = \"Davis, CA 95616\""
      ],
      "execution_count": null,
      "outputs": []
    },
    {
      "cell_type": "code",
      "metadata": {
        "colab": {
          "base_uri": "https://localhost:8080/"
        },
        "id": "RVsj9M6JjiDq",
        "outputId": "d8de9323-c9c0-478c-f79a-ca5cc57d8da1"
      },
      "source": [
        "re.findall(r'\\d{5}', zip_code)"
      ],
      "execution_count": null,
      "outputs": [
        {
          "output_type": "execute_result",
          "data": {
            "text/plain": [
              "['95616']"
            ]
          },
          "metadata": {
            "tags": []
          },
          "execution_count": 74
        }
      ]
    },
    {
      "cell_type": "markdown",
      "metadata": {
        "id": "8Ai74ly3ZmAb"
      },
      "source": [
        "## Capturing parenthesis\n",
        "\n",
        "How do we capture a long string with a regex but return only a part we are interested in?\n",
        "\n",
        "Say, we want to get the first five digits of the zipcode from an address.  We will match the 5-4 digit representation of the zip code and then get only the first five digits."
      ]
    },
    {
      "cell_type": "code",
      "metadata": {
        "id": "Mho5BgiqZpOS"
      },
      "source": [
        "zip_code = \"12345 5th street, Davis, CA 95616-1234\""
      ],
      "execution_count": null,
      "outputs": []
    },
    {
      "cell_type": "code",
      "metadata": {
        "colab": {
          "base_uri": "https://localhost:8080/"
        },
        "id": "XxwnrtxOZ94N",
        "outputId": "e844211e-45a7-45f6-e5da-647d5921d8e4"
      },
      "source": [
        "re.findall(r'(\\d{5})-\\d{4}', zip_code)"
      ],
      "execution_count": null,
      "outputs": [
        {
          "output_type": "execute_result",
          "data": {
            "text/plain": [
              "['95616']"
            ]
          },
          "metadata": {
            "tags": []
          },
          "execution_count": 76
        }
      ]
    },
    {
      "cell_type": "markdown",
      "metadata": {
        "id": "Ak8zys4ePrpL"
      },
      "source": [
        "# re.search( pattern, string )\n",
        "\n",
        "This function searches for first occurrence of RE pattern within the string. It returns and object on success, none on failure. We use group() function of match object to get the matched expression.\n",
        "\n"
      ]
    },
    {
      "cell_type": "code",
      "metadata": {
        "id": "AFjYYBXH_Rkr",
        "colab": {
          "base_uri": "https://localhost:8080/"
        },
        "outputId": "42876ef0-9585-4312-8597-34bd0b1a635d"
      },
      "source": [
        "ex = \"There is a Spade near the sand\"\n",
        "r=re.search(\"\\s\", ex)\n",
        "print(r)"
      ],
      "execution_count": null,
      "outputs": [
        {
          "output_type": "stream",
          "text": [
            "<re.Match object; span=(5, 6), match=' '>\n"
          ],
          "name": "stdout"
        }
      ]
    },
    {
      "cell_type": "code",
      "metadata": {
        "colab": {
          "base_uri": "https://localhost:8080/",
          "height": 35
        },
        "id": "zoSETauWoMGO",
        "outputId": "b8943687-f8cd-4716-9c14-19a182294eba"
      },
      "source": [
        "ex[5:6]"
      ],
      "execution_count": null,
      "outputs": [
        {
          "output_type": "execute_result",
          "data": {
            "application/vnd.google.colaboratory.intrinsic+json": {
              "type": "string"
            },
            "text/plain": [
              "' '"
            ]
          },
          "metadata": {
            "tags": []
          },
          "execution_count": 78
        }
      ]
    },
    {
      "cell_type": "code",
      "metadata": {
        "colab": {
          "base_uri": "https://localhost:8080/"
        },
        "id": "-g5DhU-rAPsI",
        "outputId": "61e5d6bb-8dcb-4a5b-8917-53c86fbbac45"
      },
      "source": [
        "ex1 = \"There is a Spade near the sand\"\n",
        "x = re.search(\"near\", ex1)\n",
        "print(x)"
      ],
      "execution_count": null,
      "outputs": [
        {
          "output_type": "stream",
          "text": [
            "<re.Match object; span=(17, 21), match='near'>\n"
          ],
          "name": "stdout"
        }
      ]
    },
    {
      "cell_type": "code",
      "metadata": {
        "colab": {
          "base_uri": "https://localhost:8080/",
          "height": 35
        },
        "id": "-73iG0nnYE9k",
        "outputId": "5d3df1d2-a704-4815-d366-288fa7ef06a0"
      },
      "source": [
        "ex1[17:21]"
      ],
      "execution_count": null,
      "outputs": [
        {
          "output_type": "execute_result",
          "data": {
            "application/vnd.google.colaboratory.intrinsic+json": {
              "type": "string"
            },
            "text/plain": [
              "'near'"
            ]
          },
          "metadata": {
            "tags": []
          },
          "execution_count": 80
        }
      ]
    },
    {
      "cell_type": "markdown",
      "metadata": {
        "id": "-RMp3B4OQYi-"
      },
      "source": [
        "# re.sub( pattern, replacement, string)\n",
        "\n",
        "Every match of the regular expression regex in the string subject will be replaced by the string replacement.\n"
      ]
    },
    {
      "cell_type": "code",
      "metadata": {
        "colab": {
          "base_uri": "https://localhost:8080/"
        },
        "id": "8U_tO_bbQUnv",
        "outputId": "14bf8a6c-7ab0-4477-f2a3-fae0c1c553b3"
      },
      "source": [
        "import re\n",
        "\n",
        "s = \"The rain in Spain\"\n",
        "x1 = re.sub(\"\\s\", \"\\t\", s, 2)\n",
        "print(x1)\n"
      ],
      "execution_count": null,
      "outputs": [
        {
          "output_type": "stream",
          "text": [
            "The\train\tin Spain\n"
          ],
          "name": "stdout"
        }
      ]
    },
    {
      "cell_type": "markdown",
      "metadata": {
        "id": "Wtpo6ufdkFkH"
      },
      "source": [
        "### re.split()\n",
        "\n",
        "Split after matching a regular expression."
      ]
    },
    {
      "cell_type": "code",
      "metadata": {
        "id": "NXQJXyxsxbVA"
      },
      "source": [
        "# Get only the tokens for the mathematical expression.\n",
        "s = \"a+b*c-d^e/f,g\"        "
      ],
      "execution_count": null,
      "outputs": []
    },
    {
      "cell_type": "code",
      "metadata": {
        "id": "LOlxGEn28aoB",
        "colab": {
          "base_uri": "https://localhost:8080/"
        },
        "outputId": "1fc1227d-d248-4cad-c825-1e106b88c806"
      },
      "source": [
        "re.split(r'[+,\\-\\*\\/\\^]',s)"
      ],
      "execution_count": null,
      "outputs": [
        {
          "output_type": "execute_result",
          "data": {
            "text/plain": [
              "['a', 'b', 'c', 'd', 'e', 'f', 'g']"
            ]
          },
          "metadata": {
            "tags": []
          },
          "execution_count": 83
        }
      ]
    },
    {
      "cell_type": "markdown",
      "metadata": {
        "id": "Hxb9vVbNY0gF"
      },
      "source": [
        "## Getting lattitude and longitude in the Berkeley dataset\n",
        "\n",
        "`Block_Location` column in the Berkeley dataset has entries that look like this.\n",
        "```\n",
        "2100 SHATTUCK AVE\n",
        "Berkeley, CA\n",
        "(37.871167, -122.268285)\n",
        "```\n",
        "How will get extract the lattitude and longitude from this string?"
      ]
    },
    {
      "cell_type": "code",
      "metadata": {
        "id": "Azp4KpyI5tPh"
      },
      "source": [
        "# `\\n` denotes the newline character. It is useful for printing neatly.\n",
        "address = \"500 Buchanan street\\nBerkeley CA\\n95011\""
      ],
      "execution_count": null,
      "outputs": []
    },
    {
      "cell_type": "code",
      "metadata": {
        "id": "iTG3SLUa51DF",
        "colab": {
          "base_uri": "https://localhost:8080/"
        },
        "outputId": "19a88b50-76c3-4ec5-d9a9-a37b88b56da3"
      },
      "source": [
        "print(address)"
      ],
      "execution_count": null,
      "outputs": [
        {
          "output_type": "stream",
          "text": [
            "500 Buchanan street\n",
            "Berkeley CA\n",
            "95011\n"
          ],
          "name": "stdout"
        }
      ]
    },
    {
      "cell_type": "markdown",
      "metadata": {
        "id": "pFkWT3oXzEX6"
      },
      "source": [
        "Here we provide a *regular expression* to be matched for our splitting.  Split whenever you find a `(` or a `)`."
      ]
    },
    {
      "cell_type": "code",
      "metadata": {
        "id": "rZYmAaEcYezI",
        "colab": {
          "base_uri": "https://localhost:8080/"
        },
        "outputId": "b6146f4c-be8d-406d-a05b-4bac37bd844e"
      },
      "source": [
        "s = '2100 SHATTUCK AVE\\nBerkeley, CA\\n(37.871167, -122.268285)'\n",
        "print(s)"
      ],
      "execution_count": null,
      "outputs": [
        {
          "output_type": "stream",
          "text": [
            "2100 SHATTUCK AVE\n",
            "Berkeley, CA\n",
            "(37.871167, -122.268285)\n"
          ],
          "name": "stdout"
        }
      ]
    },
    {
      "cell_type": "code",
      "metadata": {
        "id": "GaOG-dI2xQuZ",
        "colab": {
          "base_uri": "https://localhost:8080/"
        },
        "outputId": "199d8106-ce86-4d15-b9ab-3c4ab76ac878"
      },
      "source": [
        "a = re.split(r'[()]', s)\n",
        "a"
      ],
      "execution_count": null,
      "outputs": [
        {
          "output_type": "execute_result",
          "data": {
            "text/plain": [
              "['2100 SHATTUCK AVE\\nBerkeley, CA\\n', '37.871167, -122.268285', '']"
            ]
          },
          "metadata": {
            "tags": []
          },
          "execution_count": 87
        }
      ]
    },
    {
      "cell_type": "code",
      "metadata": {
        "colab": {
          "base_uri": "https://localhost:8080/",
          "height": 35
        },
        "id": "M1Y0BSLCvU6o",
        "outputId": "f63874b4-3144-4235-b81e-fdfda373b3f0"
      },
      "source": [
        "a[0]"
      ],
      "execution_count": null,
      "outputs": [
        {
          "output_type": "execute_result",
          "data": {
            "application/vnd.google.colaboratory.intrinsic+json": {
              "type": "string"
            },
            "text/plain": [
              "'2100 SHATTUCK AVE\\nBerkeley, CA\\n'"
            ]
          },
          "metadata": {
            "tags": []
          },
          "execution_count": 88
        }
      ]
    },
    {
      "cell_type": "code",
      "metadata": {
        "colab": {
          "base_uri": "https://localhost:8080/",
          "height": 35
        },
        "id": "XOBk9nUM4FG0",
        "outputId": "d453cc18-188e-47f4-fba2-3f23735bde83"
      },
      "source": [
        "a[1]\n"
      ],
      "execution_count": null,
      "outputs": [
        {
          "output_type": "execute_result",
          "data": {
            "application/vnd.google.colaboratory.intrinsic+json": {
              "type": "string"
            },
            "text/plain": [
              "'37.871167, -122.268285'"
            ]
          },
          "metadata": {
            "tags": []
          },
          "execution_count": 89
        }
      ]
    },
    {
      "cell_type": "code",
      "metadata": {
        "id": "INQL9Ozs90dH"
      },
      "source": [
        "\n",
        "l= re.split(r',',a[1])"
      ],
      "execution_count": null,
      "outputs": []
    },
    {
      "cell_type": "code",
      "metadata": {
        "colab": {
          "base_uri": "https://localhost:8080/",
          "height": 35
        },
        "id": "BSPbnCrC-BHO",
        "outputId": "cafbd941-0890-4726-902a-e9268273561c"
      },
      "source": [
        "l[0]"
      ],
      "execution_count": null,
      "outputs": [
        {
          "output_type": "execute_result",
          "data": {
            "application/vnd.google.colaboratory.intrinsic+json": {
              "type": "string"
            },
            "text/plain": [
              "'37.871167'"
            ]
          },
          "metadata": {
            "tags": []
          },
          "execution_count": 91
        }
      ]
    },
    {
      "cell_type": "code",
      "metadata": {
        "colab": {
          "base_uri": "https://localhost:8080/",
          "height": 35
        },
        "id": "y2_8XZY9vZuy",
        "outputId": "08055ad0-9a7d-4403-bd1d-a946d1c71e48"
      },
      "source": [
        "l[1]"
      ],
      "execution_count": null,
      "outputs": [
        {
          "output_type": "execute_result",
          "data": {
            "application/vnd.google.colaboratory.intrinsic+json": {
              "type": "string"
            },
            "text/plain": [
              "' -122.268285'"
            ]
          },
          "metadata": {
            "tags": []
          },
          "execution_count": 92
        }
      ]
    }
  ]
}